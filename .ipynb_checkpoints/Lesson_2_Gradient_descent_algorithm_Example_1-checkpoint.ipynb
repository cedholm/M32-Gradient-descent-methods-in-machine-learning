{
 "cells": [
  {
   "cell_type": "markdown",
   "id": "84f7abd0",
   "metadata": {},
   "source": [
    "# Gradient Descent Algorithm - Example 1"
   ]
  },
  {
   "cell_type": "markdown",
   "id": "a521c9fe",
   "metadata": {},
   "source": [
    "## Computing the minimum of a function"
   ]
  },
  {
   "cell_type": "markdown",
   "id": "09fe8308",
   "metadata": {},
   "source": [
    "Suppose we want to find the minimum of the function $$ f(x,y) = (x-47)^2 + (y - 0.1)^2 + 2. $$"
   ]
  },
  {
   "cell_type": "code",
   "execution_count": null,
   "id": "79a53565",
   "metadata": {},
   "outputs": [],
   "source": [
    "#------------------------\n",
    "# Import packages\n",
    "#------------------------\n",
    "import numpy as np\n",
    "import pandas as pd\n",
    "import matplotlib.pyplot as plt\n",
    "from numpy.linalg import norm\n",
    "\n",
    "\n",
    "# Change the plotting style\n",
    "plt.style.use(\"seaborn-v0_8\")\n",
    "\n",
    "# Uncomment to make pictures interactive\n",
    "# %matplotlib notebook\n",
    "%matplotlib inline"
   ]
  },
  {
   "cell_type": "markdown",
   "id": "2a2e2f98",
   "metadata": {},
   "source": [
    "We create the functions for our calculations such as $f$ and the gradient of $f$."
   ]
  },
  {
   "cell_type": "code",
   "execution_count": null,
   "id": "a4b3ba29",
   "metadata": {},
   "outputs": [],
   "source": [
    "#------------------------\n",
    "# Create functions\n",
    "#------------------------\n",
    "\n",
    "# Input into the fuctions is vector X, where X = (x,y)\n",
    "\n",
    "# Create the function we want to find the minimum of\n",
    "def f(X):\n",
    "    x, y = X\n",
    "    f = (x-47)**2 + (y - 0.1)**2 + 2\n",
    "    return f\n",
    "\n",
    "# Create the gradient vector\n",
    "def gradf(X):\n",
    "    x, y = X\n",
    "    gradient = np.array([2*(x - 47), 2*(y - 0.1)**1])\n",
    "    return gradient"
   ]
  },
  {
   "cell_type": "markdown",
   "id": "96fed70b",
   "metadata": {},
   "source": [
    "We can plot $f$ as well."
   ]
  },
  {
   "cell_type": "code",
   "execution_count": null,
   "id": "906fe782",
   "metadata": {},
   "outputs": [],
   "source": [
    "#------------------------\n",
    "# Find values of function f\n",
    "#------------------------\n",
    "\n",
    "# Create points to plot\n",
    "x = np.linspace(0, 100, 50)\n",
    "y = np.linspace(-50, 50, 50)\n",
    "\n",
    "# Makes (x,y) grid for plotting\n",
    "XYgrid = np.meshgrid(x, y)\n",
    "\n",
    "# f function output for points on grid\n",
    "Z = f(XYgrid)\n",
    "\n",
    "#------------------------\n",
    "# Create plot of function f\n",
    "#------------------------\n",
    "\n",
    "# Make figure size\n",
    "fig = plt.figure(figsize=(12,7), dpi = 100)\n",
    "\n",
    "# Make 3d axis for plot\n",
    "ax = plt.axes(projection='3d')\n",
    "\n",
    "# Add surface to plot\n",
    "#------------------------\n",
    "ax.plot_surface(XYgrid[0], XYgrid[1], Z, rstride = 1, cstride = 1, cmap='viridis', edgecolor='none')\n",
    "\n",
    "# Create title and label axes\n",
    "#ax.set_title(r'$f(x,y)$', fontsize = 20);\n",
    "ax.set_xlabel('x', fontsize = 18)\n",
    "ax.set_ylabel('y', fontsize = 18)\n",
    "ax.set_zlabel('z', fontsize = 18)\n",
    "\n",
    "# Set general font size\n",
    "plt.rcParams['font.size'] = '12'\n",
    "\n",
    "# Set tick font size\n",
    "for label in (ax.get_xticklabels() + ax.get_yticklabels() + ax.get_zticklabels()):\n",
    "    label.set_fontsize(12)\n",
    "    \n",
    "# Uncomment to save figure  \n",
    "#------------------------\n",
    "plt.savefig('f-function.pdf', bbox_inches='tight', dpi = 300)\n",
    "\n",
    "# Show plot\n",
    "#------------------------\n",
    "plt.show()"
   ]
  },
  {
   "cell_type": "markdown",
   "id": "1f6b4bc2",
   "metadata": {},
   "source": [
    "Now, we will start our gradient descent algorithm.  Here, we will start at the point $P=(80, 20)$."
   ]
  },
  {
   "cell_type": "code",
   "execution_count": null,
   "id": "035b2449",
   "metadata": {},
   "outputs": [],
   "source": [
    "#------------------------\n",
    "# Create variables\n",
    "#------------------------\n",
    "\n",
    "# Starting point\n",
    "x0 = 80\n",
    "y0 = 20\n",
    "\n",
    "# Step size to move along gradient\n",
    "gamma = 0.01\n",
    "\n",
    "# initialize num of steps to take\n",
    "totalNumSteps = 0\n",
    "# create a max number of steps to take\n",
    "maxSteps = 1000\n",
    "# how close we want to be to f\n",
    "tolerance = 0.0001\n",
    "# initial difference between old and new (x,y) values\n",
    "diff = 100\n",
    "\n",
    "# Starting point X=(x0,y0) where X=(x,y)\n",
    "X = np.array([x0,y0])\n",
    "\n",
    "\n",
    "#------------------------\n",
    "# Initialize lists\n",
    "#------------------------\n",
    "\n",
    "# creates list of all (x,y) pairs\n",
    "xyValuesList = [X]\n",
    "# creates list of all cost function values\n",
    "fValuesList = [f(X)]\n",
    "# creates list of the norm between old and new (x,y) values\n",
    "diffList = [diff]\n",
    "\n",
    "#------------------------\n",
    "# Gradient descent calcs\n",
    "#------------------------\n",
    "\n",
    "while((totalNumSteps < maxSteps)&(diff > tolerance)):\n",
    "    \n",
    "    # Calculate new (x,y) values - move along gradient to new (x,y) position\n",
    "    newX = X - gamma*gradf(X)\n",
    "    # Add to list of (x,y) values\n",
    "    xyValuesList.append(newX)\n",
    "    \n",
    "    # Calculate the difference between current and new (x,y) values\n",
    "    diff = norm(newX-X,2)\n",
    "    diffList.append(diff)\n",
    "    \n",
    "    # Reassign current (x,y) to new (x,y)\n",
    "    X = newX\n",
    "    # Add to list of f function values\n",
    "    fValuesList.append(f(X))\n",
    "    \n",
    "    # Add 1 to counter for total number of steps\n",
    "    totalNumSteps += 1\n",
    "    \n",
    "lastValue = xyValuesList[-1]\n",
    "    \n",
    "print('The minimum of the function f occurs at the point', lastValue,'after', totalNumSteps, 'time steps.')"
   ]
  },
  {
   "cell_type": "markdown",
   "id": "3ed625cb",
   "metadata": {},
   "source": [
    "We can plot the $(x,y)$ points from our algorithm as well.  First, we create a dataframe with all of the points from the xyValuesList."
   ]
  },
  {
   "cell_type": "code",
   "execution_count": null,
   "id": "8c7e196f",
   "metadata": {},
   "outputs": [],
   "source": [
    "#------------------------\n",
    "# Format data for plot\n",
    "#------------------------\n",
    "\n",
    "# Data from above\n",
    "df = pd.DataFrame(xyValuesList, columns = ['x', 'y'])\n",
    "df['f(x,y)'] = fValuesList\n",
    "\n",
    "# Function values of f (to compare)\n",
    "epsilon = 2\n",
    "x = np.linspace(min(df['x'])-epsilon, max(df['x']+epsilon), 30)\n",
    "y = np.linspace(min(df['y'])-epsilon, max(df['y']+epsilon), 30)\n",
    "\n",
    "# Makes grid for plotting\n",
    "XYgrid = np.meshgrid(x, y)\n",
    "# Cost function output for points on grid\n",
    "Z = f(XYgrid)"
   ]
  },
  {
   "cell_type": "markdown",
   "id": "39d8f75a",
   "metadata": {},
   "source": [
    "We will plot these point on a contour diagram to see how they move toward the minimum of $f$."
   ]
  },
  {
   "cell_type": "code",
   "execution_count": null,
   "id": "3e08b948",
   "metadata": {},
   "outputs": [],
   "source": [
    "# ------------------------\n",
    "# Create contour plot\n",
    "#------------------------\n",
    "\n",
    "# Make figure size\n",
    "plt.figure(figsize=(12,7), dpi = 100)\n",
    "\n",
    "# Create contour plot\n",
    "#------------------------\n",
    "plt.contourf(XYgrid[0], XYgrid[1], Z, 15, cmap='GnBu')\n",
    "\n",
    "# Plot our xyValues\n",
    "#------------------------\n",
    "plt.plot(df['x'], df['y'], 'o', color = 'crimson')\n",
    "\n",
    "# Set general font size\n",
    "plt.rcParams['font.size'] = '18'\n",
    "plt.rcParams['axes.grid'] = False\n",
    "\n",
    "# Label axes and make title\n",
    "plt.xlabel('x', fontsize = 20)\n",
    "plt.ylabel('y', fontsize = 20)\n",
    "plt.title('Contour Plot of $f(x,y)$', fontsize = 24)\n",
    "\n",
    "# Create colorbar for height\n",
    "plt.colorbar()\n",
    "\n",
    "# Uncommment to save figure\n",
    "#------------------------\n",
    "plt.savefig('contourPlot.pdf', bbox_inches='tight', dpi= 300)\n",
    "\n",
    "# Show plot\n",
    "plt.show()"
   ]
  },
  {
   "cell_type": "code",
   "execution_count": null,
   "id": "65fde9fa",
   "metadata": {},
   "outputs": [],
   "source": []
  }
 ],
 "metadata": {
  "kernelspec": {
   "display_name": "Python 3 (ipykernel)",
   "language": "python",
   "name": "python3"
  },
  "language_info": {
   "codemirror_mode": {
    "name": "ipython",
    "version": 3
   },
   "file_extension": ".py",
   "mimetype": "text/x-python",
   "name": "python",
   "nbconvert_exporter": "python",
   "pygments_lexer": "ipython3",
   "version": "3.11.4"
  }
 },
 "nbformat": 4,
 "nbformat_minor": 5
}
